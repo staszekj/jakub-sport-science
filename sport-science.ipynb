{
 "cells": [
  {
   "cell_type": "code",
   "execution_count": 7,
   "id": "7692e8d9-b5d9-45a5-ac2d-d71883a150bd",
   "metadata": {},
   "outputs": [
    {
     "data": {
      "image/png": "[encoded data removed]",
      "text/plain": [
       "<Figure size 432x288 with 1 Axes>"
      ]
     },
     "metadata": {
      "needs_background": "light"
     },
     "output_type": "display_data"
    }
   ],
   "source": [
    "import pandas as pd\n",
    "import seaborn as sns\n",
    "con = pd.read_csv('data/data.csv')\n",
    "\n",
    "con['AirEntrain'] = con['AirEntrain'].astype('category')\n",
    "con.describe(include='category')\n",
    "\n",
    "sns.scatterplot(x=\"FlyAsh\", y=\"Strength\", data=con);\n"
   ]
  },
  {
   "cell_type": "code",
   "execution_count": null,
   "id": "575997f1-db52-490d-8601-817c31a54c08",
   "metadata": {},
   "outputs": [],
   "source": []
  },
  {
   "cell_type": "code",
   "execution_count": null,
   "id": "4626acc7-1140-4f2e-bee9-1a64a54bc714",
   "metadata": {},
   "outputs": [],
   "source": []
  }
 ],
 "metadata": {
  "kernelspec": {
   "display_name": "Python 3",
   "language": "python",
   "name": "python3"
  },
  "language_info": {
   "codemirror_mode": {
    "name": "ipython",
    "version": 3
   },
   "file_extension": ".py",
   "mimetype": "text/x-python",
   "name": "python",
   "nbconvert_exporter": "python",
   "pygments_lexer": "ipython3",
   "version": "3.8.8"
  }
 },
 "nbformat": 4,
 "nbformat_minor": 5
}
